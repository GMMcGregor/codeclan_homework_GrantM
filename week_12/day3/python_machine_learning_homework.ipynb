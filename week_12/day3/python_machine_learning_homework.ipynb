{
 "cells": [
  {
   "cell_type": "markdown",
   "metadata": {},
   "source": [
    "# MVP\n",
    "\n",
    "Use the car sales data included in file `car_dekho_details.csv`.\n",
    "\n",
    "We want you to build a linear regression model to **predict the `selling_price`** of a car in both in `Python` and in `R`.\n",
    "\n",
    "1. Do some basic data exploration in `Python` (you may wish to use `pandas_profiling` for this if it works for you)\n",
    "2. Create a basic model in `Python` with all predictors except `name` (and without transformation). Use `sklearn` for this.\n",
    "3. Create a similar basic model in `R` (again all predictors except `name`, without transformation) \n",
    "4. Write a short paragraph comparing what was easy and what was difficult in both languages.\n",
    "5. Interpret the model."
   ]
  }
 ],
 "metadata": {
  "jupytext": {
   "cell_metadata_filter": "tags,-all",
   "main_language": "R",
   "notebook_metadata_filter": "-all"
  },
  "kernelspec": {
   "display_name": "Python 3",
   "language": "python",
   "name": "python3"
  },
  "language_info": {
   "codemirror_mode": {
    "name": "ipython",
    "version": 3
   },
   "file_extension": ".py",
   "mimetype": "text/x-python",
   "name": "python",
   "nbconvert_exporter": "python",
   "pygments_lexer": "ipython3",
   "version": "3.8.5"
  },
  "varInspector": {
   "cols": {
    "lenName": 16,
    "lenType": 16,
    "lenVar": 40
   },
   "kernels_config": {
    "python": {
     "delete_cmd_postfix": "",
     "delete_cmd_prefix": "del ",
     "library": "var_list.py",
     "varRefreshCmd": "print(var_dic_list())"
    },
    "r": {
     "delete_cmd_postfix": ") ",
     "delete_cmd_prefix": "rm(",
     "library": "var_list.r",
     "varRefreshCmd": "cat(var_dic_list()) "
    }
   },
   "types_to_exclude": [
    "module",
    "function",
    "builtin_function_or_method",
    "instance",
    "_Feature"
   ],
   "window_display": false
  }
 },
 "nbformat": 4,
 "nbformat_minor": 2
}
