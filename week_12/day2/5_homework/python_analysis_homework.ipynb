{
 "cells": [
  {
   "cell_type": "markdown",
   "metadata": {},
   "source": [
    "# Questions \n",
    "\n",
    "1. Load in the dataset (`starbucks_drinkMenu_expanded.csv`), calling it `drinks_content`, and then briefly explore it, printing out: first 5 rows, last 5 rows, and then all of the data. Find out the dimensions of the data (number of rows and columns) and the column names.\n",
    "\n",
    "2. We're going to be looking at the number of `Calories` in each drink.\n",
    "Calculate some quick summary statistics (e.g. the mean, the maximum and minimum). \n",
    "\n",
    "3. Select the variables `Beverage_category`, `Beverage`, `Beverage prep` and `Calories` from the `drinks_content` data frame, and assign the selected columns to a new data frame called `drinks`. Check if there are any missing  values anywhere in the data, and drop any rows containing them if there are.\n",
    "\n",
    "4. In your `drinks` dataframe create a new variable (column) called `calorie_diff`, which stores the difference between 135 calories (135 calories = 10 cubes of sugar!) and the calories in each drink. (Hint: you’ll want to subtract the calories from 135 to see which drink have more or less than 10 cups of sugar).\n",
    "\n",
    "5. Summarise the mean number of calories in each beverage_category. Which 3 category of drinks have the most calories? Which 3 drinks have the least? Write a small summary of your findings.\n",
    "\n",
    "6. **Harder** - Which `Beverage_prep` type contains more than the average calories of all drinks?\n",
    "(Hint: to answer this, you’ll have to first figure out what the average calories across all drinks are, and then use that as a filter for the grouped Beverage_prep data).\n",
    "\n",
    "7. **Harder**  - Which is the best type of **coffee drink** to get if you’re worried about consuming too many calories?\n",
    "\n",
    "8. Filter the dataset drinks so we only take \"Classic Espresso Drinks\", and save this in a new data frame called `espresso_drinks`.\n",
    "\n",
    "9. Group your `espresso_drinks` data frame by the type of `Beverage prep`, and then find out the mean calories for each drink group.\n",
    "\n",
    "10. Get the same grouped mean `Calories` values as above, but this time sorted in descending order. (Hint: so you're able to sort the resulting groupby by the 'Calories' column you will want to ensure you get back a dataframe and not a series)"
   ]
  },
  {
   "cell_type": "markdown",
   "metadata": {},
   "source": [
    "# Extension\n",
    "\n",
    "Now, play around with the data yourself. Is there anything surprising facts from the data? Any interesting plots you can make?"
   ]
  }
 ],
 "metadata": {
  "jupytext": {
   "cell_metadata_filter": "-all",
   "main_language": "python",
   "notebook_metadata_filter": "-all"
  },
  "kernelspec": {
   "display_name": "Python 3",
   "language": "python",
   "name": "python3"
  },
  "language_info": {
   "codemirror_mode": {
    "name": "ipython",
    "version": 3
   },
   "file_extension": ".py",
   "mimetype": "text/x-python",
   "name": "python",
   "nbconvert_exporter": "python",
   "pygments_lexer": "ipython3",
   "version": "3.7.3"
  }
 },
 "nbformat": 4,
 "nbformat_minor": 2
}
