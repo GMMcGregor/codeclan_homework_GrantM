{
 "cells": [
  {
   "cell_type": "raw",
   "metadata": {},
   "source": [
    "---\n",
    "title: \"Machine Learning in Python Lab\"\n",
    "output:\n",
    "  html_document:\n",
    "    toc: true\n",
    "    toc_float: true\n",
    "    number_sections: true\n",
    "    df_print: paged\n",
    "    css: ../../../styles.css\n",
    "  pdf_document: default\n",
    "---"
   ]
  },
  {
   "cell_type": "markdown",
   "metadata": {},
   "source": [
    "\n",
    "# MVP\n",
    "\n",
    "The data in \"songs.csv\" contains descriptive information on various songs from Spotify and one person's personal opinion of each song. We want you to build a model that can predict \"target\"; target is a 1 when they liked the song, and 0 when the did not like it.\n",
    "\n",
    "You need to decide:\n",
    "\n",
    "* Which variables to use\n",
    "* Do you want to do any feature engineering?\n",
    "* How to explore and clean the data\n",
    "* Which model to use\n",
    "* Do you want to change any of the parameters of the mode?\n",
    "* How to measure the accuracy of the model\n",
    "\n",
    "You will want to build several models and compare the accuracy between them. Try to get the best model possible, but be careful about over fitting.\n",
    "\n",
    "For this lab, please use Python.\n",
    "\n",
    "# Extension\n",
    "\n",
    "Try using a machine learning model that we have not covered in class. Some suggestions include:\n",
    "\n",
    "* Support Vector Machines\n",
    "* Neutral networks\n",
    "* Naive Bayes\n",
    "* K-nearest neighbours \n",
    "\n",
    "You will want to make sure you understand the models if you are using them. It's fine to get working code early on, but you need to go back and understand roughly how the algorithm works, and any arguments passed or assumed by default.\n",
    "\n",
    "You can find more documentation on these models on the Scikit learn website: \n",
    "\n",
    "This blog post has helpful summaries of some of the available models: https://stackabuse.com/classification-in-python-with-scikit-learn-and-pandas/"
   ]
  }
 ],
 "metadata": {
  "jupytext": {
   "cell_metadata_filter": "-all",
   "main_language": "python",
   "notebook_metadata_filter": "-all"
  }
 },
 "nbformat": 4,
 "nbformat_minor": 2
}
